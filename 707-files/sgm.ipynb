{
 "cells": [
  {
   "cell_type": "markdown",
   "metadata": {},
   "source": [
    "# SGM Baseline\n",
    "\n",
    "*Throughout, much of the code is adaped from the Argoverse stereo tutorial.*"
   ]
  },
  {
   "cell_type": "markdown",
   "metadata": {},
   "source": [
    "## 1 Setup\n",
    "\n",
    "----\n",
    "\n",
    "Ensure you're in <...>/argoverse-api"
   ]
  },
  {
   "cell_type": "code",
   "execution_count": 1,
   "metadata": {},
   "outputs": [
    {
     "name": "stdout",
     "output_type": "stream",
     "text": [
      "Current directory: /Users/main/Documents/GitHub/argoverse-api\n"
     ]
    }
   ],
   "source": [
    "import os\n",
    "os.chdir('..')\n",
    "print(f\"Current directory: {os.getcwd()}\")"
   ]
  },
  {
   "cell_type": "code",
   "execution_count": 16,
   "metadata": {},
   "outputs": [],
   "source": [
    "import cv2\n",
    "import numpy as np\n",
    "\n",
    "from tqdm import tqdm\n",
    "from pathlib import Path\n",
    "from argoverse.data_loading.stereo_dataloader import ArgoverseStereoDataLoader\n",
    "from argoverse.evaluation.stereo.eval import StereoEvaluator\n",
    "from argoverse.utils.calibration import get_calibration_config\n",
    "from argoverse.utils.camera_stats import RECTIFIED_STEREO_CAMERA_LIST\n",
    "\n",
    "STEREO_FRONT_LEFT_RECT = RECTIFIED_STEREO_CAMERA_LIST[0]\n",
    "STEREO_FRONT_RIGHT_RECT = RECTIFIED_STEREO_CAMERA_LIST[1]"
   ]
  },
  {
   "cell_type": "code",
   "execution_count": 10,
   "metadata": {},
   "outputs": [],
   "source": [
    "main_dir = \"/Users/main/Documents/GitHub/argoverse-api/\"\n",
    "data_dir = f\"{main_dir}argoverse-stereo_v1.1/\""
   ]
  },
  {
   "cell_type": "markdown",
   "metadata": {},
   "source": [
    "## 2 Main Model\n",
    "\n",
    "----\n",
    "\n",
    "Goal: Predict disparity map from pair of stereo images\n",
    "\n",
    "### 2.1 Training\n",
    "\n",
    "Notes: \n",
    "\n",
    " * SGM is not a learning algorithm, so we don't need to do any training.  As such, here we just define the model\n",
    "for use in the testing section below."
   ]
  },
  {
   "cell_type": "code",
   "execution_count": 4,
   "metadata": {},
   "outputs": [],
   "source": [
    "# Defining the SGM parameters (please check the OpenCV documentation for details).\n",
    "# We found this parameters empirically and based on the Argoverse Stereo data. \n",
    "max_disp = 192\n",
    "win_size = 10\n",
    "uniqueness_ratio = 15\n",
    "speckle_window_size = 200\n",
    "speckle_range = 2\n",
    "block_size = 11\n",
    "P1 = 8 * 3 * win_size ** 2\n",
    "P2 = 32 * 3 * win_size ** 2\n",
    "\n",
    "# Defining the Weighted Least Squares (WLS) filter parameters.\n",
    "lmbda = 0.1\n",
    "sigma = 1.0\n",
    "\n",
    "# Defining the SGM left matcher.\n",
    "left_matcher = cv2.StereoSGBM_create(\n",
    "    minDisparity=0,\n",
    "    numDisparities=max_disp,\n",
    "    blockSize=block_size,\n",
    "    P1=P1,\n",
    "    P2=P2,\n",
    "    disp12MaxDiff=max_disp,\n",
    "    uniquenessRatio=uniqueness_ratio,\n",
    "    speckleWindowSize=speckle_window_size,\n",
    "    speckleRange=speckle_range,\n",
    "    mode=cv2.STEREO_SGBM_MODE_SGBM_3WAY,\n",
    ")\n",
    "\n",
    "# Defining the SGM right matcher needed for the left-right consistency check in the WLS filter.\n",
    "right_matcher = cv2.ximgproc.createRightMatcher(left_matcher)\n",
    "\n",
    "# Defining the WLS filter.\n",
    "wls_filter = cv2.ximgproc.createDisparityWLSFilter(matcher_left=left_matcher)\n",
    "wls_filter.setLambda(lmbda)\n",
    "wls_filter.setSigmaColor(sigma)"
   ]
  },
  {
   "cell_type": "markdown",
   "metadata": {},
   "source": [
    "### 2.2 Evaluation"
   ]
  },
  {
   "cell_type": "code",
   "execution_count": 21,
   "metadata": {},
   "outputs": [
    {
     "name": "stdout",
     "output_type": "stream",
     "text": [
      "Now evaluating log_id :: \t\t 1/17\n"
     ]
    },
    {
     "name": "stderr",
     "output_type": "stream",
     "text": [
      "100%|██████████| 74/74 [08:02<00:00,  6.52s/it]\n"
     ]
    },
    {
     "name": "stdout",
     "output_type": "stream",
     "text": [
      "Now evaluating log_id :: \t\t 2/17\n"
     ]
    },
    {
     "name": "stderr",
     "output_type": "stream",
     "text": [
      "100%|██████████| 73/73 [07:31<00:00,  6.18s/it]\n"
     ]
    },
    {
     "name": "stdout",
     "output_type": "stream",
     "text": [
      "Now evaluating log_id :: \t\t 3/17\n"
     ]
    },
    {
     "name": "stderr",
     "output_type": "stream",
     "text": [
      "100%|██████████| 73/73 [07:28<00:00,  6.14s/it]\n"
     ]
    },
    {
     "name": "stdout",
     "output_type": "stream",
     "text": [
      "Now evaluating log_id :: \t\t 4/17\n"
     ]
    },
    {
     "name": "stderr",
     "output_type": "stream",
     "text": [
      "100%|██████████| 105/105 [10:42<00:00,  6.12s/it]\n"
     ]
    },
    {
     "name": "stdout",
     "output_type": "stream",
     "text": [
      "Now evaluating log_id :: \t\t 5/17\n"
     ]
    },
    {
     "name": "stderr",
     "output_type": "stream",
     "text": [
      "100%|██████████| 73/73 [07:21<00:00,  6.05s/it]\n"
     ]
    },
    {
     "name": "stdout",
     "output_type": "stream",
     "text": [
      "Now evaluating log_id :: \t\t 6/17\n"
     ]
    },
    {
     "name": "stderr",
     "output_type": "stream",
     "text": [
      "100%|██████████| 107/107 [10:39<00:00,  5.98s/it]\n"
     ]
    },
    {
     "name": "stdout",
     "output_type": "stream",
     "text": [
      "Now evaluating log_id :: \t\t 7/17\n"
     ]
    },
    {
     "name": "stderr",
     "output_type": "stream",
     "text": [
      "100%|██████████| 145/145 [14:20<00:00,  5.94s/it]\n"
     ]
    },
    {
     "name": "stdout",
     "output_type": "stream",
     "text": [
      "Now evaluating log_id :: \t\t 8/17\n"
     ]
    },
    {
     "name": "stderr",
     "output_type": "stream",
     "text": [
      "100%|██████████| 74/74 [07:30<00:00,  6.08s/it]\n"
     ]
    },
    {
     "name": "stdout",
     "output_type": "stream",
     "text": [
      "Now evaluating log_id :: \t\t 9/17\n"
     ]
    },
    {
     "name": "stderr",
     "output_type": "stream",
     "text": [
      "100%|██████████| 74/74 [07:56<00:00,  6.44s/it]\n"
     ]
    },
    {
     "name": "stdout",
     "output_type": "stream",
     "text": [
      "Now evaluating log_id :: \t\t 10/17\n"
     ]
    },
    {
     "name": "stderr",
     "output_type": "stream",
     "text": [
      "100%|██████████| 74/74 [07:15<00:00,  5.89s/it]\n"
     ]
    },
    {
     "name": "stdout",
     "output_type": "stream",
     "text": [
      "Now evaluating log_id :: \t\t 11/17\n"
     ]
    },
    {
     "name": "stderr",
     "output_type": "stream",
     "text": [
      "100%|██████████| 72/72 [07:04<00:00,  5.89s/it]\n"
     ]
    },
    {
     "name": "stdout",
     "output_type": "stream",
     "text": [
      "Now evaluating log_id :: \t\t 12/17\n"
     ]
    },
    {
     "name": "stderr",
     "output_type": "stream",
     "text": [
      "100%|██████████| 74/74 [07:12<00:00,  5.85s/it]\n"
     ]
    },
    {
     "name": "stdout",
     "output_type": "stream",
     "text": [
      "Now evaluating log_id :: \t\t 13/17\n"
     ]
    },
    {
     "name": "stderr",
     "output_type": "stream",
     "text": [
      "100%|██████████| 143/143 [13:33<00:00,  5.69s/it]\n"
     ]
    },
    {
     "name": "stdout",
     "output_type": "stream",
     "text": [
      "Now evaluating log_id :: \t\t 14/17\n"
     ]
    },
    {
     "name": "stderr",
     "output_type": "stream",
     "text": [
      "100%|██████████| 146/146 [14:23<00:00,  5.92s/it]\n"
     ]
    },
    {
     "name": "stdout",
     "output_type": "stream",
     "text": [
      "Now evaluating log_id :: \t\t 15/17\n"
     ]
    },
    {
     "name": "stderr",
     "output_type": "stream",
     "text": [
      "100%|██████████| 73/73 [06:35<00:00,  5.42s/it]\n"
     ]
    },
    {
     "name": "stdout",
     "output_type": "stream",
     "text": [
      "Now evaluating log_id :: \t\t 16/17\n"
     ]
    },
    {
     "name": "stderr",
     "output_type": "stream",
     "text": [
      "100%|██████████| 74/74 [07:09<00:00,  5.81s/it]\n"
     ]
    },
    {
     "name": "stdout",
     "output_type": "stream",
     "text": [
      "Now evaluating log_id :: \t\t 17/17\n"
     ]
    },
    {
     "name": "stderr",
     "output_type": "stream",
     "text": [
      "100%|██████████| 68/68 [06:30<00:00,  5.74s/it]\n"
     ]
    },
    {
     "name": "stdout",
     "output_type": "stream",
     "text": [
      "{'all:10': 0.7100484384214201, 'fg:10': 1.558911822412393, 'bg:10': 0.5167476920782379, 'all*:10': 0.37796714014820926, 'fg*:10': 1.0862981992874448, 'bg*:10': 0.22049208589777788, 'all:5': 1.1174777709430592, 'fg:5': 1.8753392551496433, 'bg:5': 0.9448997174132555, 'all*:5': 0.6840675011899369, 'fg*:5': 1.3839757813118867, 'bg*:5': 0.5284649860094401, 'all:3': 1.3167011646824633, 'fg:3': 2.0210125106899786, 'bg:3': 1.1563173957405914, 'all*:3': 0.8588047798708927, 'fg*:3': 1.5408426312188002, 'bg*:3': 0.7071751904916316}\n"
     ]
    }
   ],
   "source": [
    "stereo_data_loader = ArgoverseStereoDataLoader(data_dir, \"val\")\n",
    "\n",
    "metrics = []\n",
    "log_ids = os.listdir(f\"{data_dir}rectified_stereo_images_v1.1/val/\")\n",
    "i = 0\n",
    "for log_id in log_ids:\n",
    "    i += 1\n",
    "    print(f\"Now evaluating log_id :: \\t\\t {i}/{len(log_ids)}\")\n",
    "    left_stereo_img_fpaths = stereo_data_loader.get_ordered_log_stereo_image_fpaths(\n",
    "        log_id=log_id, \n",
    "        camera_name=STEREO_FRONT_LEFT_RECT)\n",
    "    right_stereo_img_fpaths = stereo_data_loader.get_ordered_log_stereo_image_fpaths(\n",
    "        log_id=log_id, \n",
    "        camera_name=STEREO_FRONT_RIGHT_RECT)\n",
    "    disparity_map_fpaths = stereo_data_loader.get_ordered_log_disparity_map_fpaths(\n",
    "        log_id=log_id,\n",
    "        disparity_name=\"stereo_front_left_rect_disparity\")\n",
    "    disparity_obj_map_fpaths = stereo_data_loader.get_ordered_log_disparity_map_fpaths(\n",
    "        log_id=log_id,\n",
    "        disparity_name=\"stereo_front_left_rect_objects_disparity\")\n",
    "\n",
    "    for idx in tqdm(range(len(left_stereo_img_fpaths))):\n",
    "        # Load the testing image and corresponding disparity and foreground disparity maps\n",
    "        stereo_front_left_rect_image = stereo_data_loader.get_rectified_stereo_image(left_stereo_img_fpaths[idx])\n",
    "        stereo_front_right_rect_image = stereo_data_loader.get_rectified_stereo_image(right_stereo_img_fpaths[idx])\n",
    "        stereo_front_left_rect_disparity = stereo_data_loader.get_disparity_map(disparity_map_fpaths[idx])\n",
    "        stereo_front_left_rect_objects_disparity = stereo_data_loader.get_disparity_map(disparity_obj_map_fpaths[idx])\n",
    "\n",
    "        # Apply the model\n",
    "        left_disparity = left_matcher.compute(stereo_front_left_rect_image, stereo_front_right_rect_image)\n",
    "        right_disparity = right_matcher.compute(stereo_front_right_rect_image, stereo_front_left_rect_image)\n",
    "        left_disparity_pred = wls_filter.filter(left_disparity, stereo_front_left_rect_image, None, right_disparity)\n",
    "        left_disparity_pred = np.float32(left_disparity_pred) / 16.0\n",
    "        left_disparity_pred[left_disparity_pred < 0] = 0\n",
    "\n",
    "        left_disparity_pred = np.uint16(left_disparity_pred * 256.0)\n",
    "        timestamp = int(Path(disparity_map_fpaths[idx]).stem.split(\"_\")[-1])\n",
    "        save_dir_disp = f\"{main_dir}707-files/results/sgm/stereo_output/{log_id}/\"\n",
    "        Path(save_dir_disp).mkdir(parents=True, exist_ok=True)\n",
    "        filename = f\"{save_dir_disp}/disparity_{timestamp}.png\"\n",
    "        cv2.imwrite(filename, left_disparity_pred)\n",
    "\n",
    "    pred_dir = Path(save_dir_disp)\n",
    "    gt_dir = Path(f\"{data_dir}/disparity_maps_v1.1/val/{log_id}\")\n",
    "    save_figures_dir = Path(f\"/tmp/results/sgm/figures/{log_id}/\")\n",
    "    save_figures_dir.mkdir(parents=True, exist_ok=True)\n",
    "\n",
    "    evaluator = StereoEvaluator(\n",
    "        pred_dir,\n",
    "        gt_dir,\n",
    "        save_figures_dir,\n",
    "    )\n",
    "    metrics += [evaluator.evaluate()]"
   ]
  },
  {
   "cell_type": "markdown",
   "metadata": {},
   "source": [
    "{\n",
    "    'all:10': 0.7100484384214201, \n",
    "    'fg:10': 1.558911822412393, \n",
    "    'bg:10': 0.5167476920782379, \n",
    "    'all*:10': 0.37796714014820926, \n",
    "    'fg*:10': 1.0862981992874448, \n",
    "    'bg*:10': 0.22049208589777788, \n",
    "    'all:5': 1.1174777709430592, \n",
    "    'fg:5': 1.8753392551496433, \n",
    "    'bg:5': 0.9448997174132555, \n",
    "    'all*:5': 0.6840675011899369, \n",
    "    'fg*:5': 1.3839757813118867, \n",
    "    'bg*:5': 0.5284649860094401, \n",
    "    'all:3': 1.3167011646824633, \n",
    "    'fg:3': 2.0210125106899786, \n",
    "    'bg:3': 1.1563173957405914, \n",
    "    'all*:3': 0.8588047798708927, \n",
    "    'fg*:3': 1.5408426312188002, \n",
    "    'bg*:3': 0.7071751904916316\n",
    "}"
   ]
  },
  {
   "cell_type": "code",
   "execution_count": 28,
   "metadata": {},
   "outputs": [
    {
     "name": "stderr",
     "output_type": "stream",
     "text": [
      "100%|██████████| 17/17 [06:48<00:00, 24.03s/it]\n"
     ]
    }
   ],
   "source": [
    "# Assuming images already generated:\n",
    "\n",
    "stereo_data_loader = ArgoverseStereoDataLoader(data_dir, \"val\")\n",
    "\n",
    "metrics = []\n",
    "lens = []\n",
    "log_ids = [\n",
    "    'f9fa3960-537f-3151-a1a3-37a9c0d6d7f7',\n",
    "    '1d676737-4110-3f7e-bec0-0c90f74c248f',\n",
    "    'da734d26-8229-383f-b685-8086e58d1e05',\n",
    "    '6db21fda-80cd-3f85-b4a7-0aadeb14724d',\n",
    "    '85bc130b-97ae-37fb-a129-4fc07c80cca7',\n",
    "    '33737504-3373-3373-3373-633738571776',\n",
    "    '033669d3-3d6b-3d3d-bd93-7985d86653ea',\n",
    "    'f1008c18-e76e-3c24-adcc-da9858fac145',\n",
    "    '5ab2697b-6e3e-3454-a36a-aba2c6f27818',\n",
    "    'cb762bb1-7ce1-3ba5-b53d-13c159b532c8',\n",
    "    '70d2aea5-dbeb-333d-b21e-76a7f2f1ba1c',\n",
    "    '2d12da1d-5238-3870-bfbc-b281d5e8c1a1',\n",
    "    '64724064-6472-6472-6472-764725145600',\n",
    "    '00c561b9-2057-358d-82c6-5b06d76cebcf',\n",
    "    'cb0cba51-dfaf-34e9-a0c2-d931404c3dd8',\n",
    "    'e9a96218-365b-3ecd-a800-ed2c4c306c78',\n",
    "    '39556000-3955-3955-3955-039557148672'\n",
    "]\n",
    "for log_id in tqdm(log_ids):\n",
    "    left_stereo_img_fpaths = stereo_data_loader.get_ordered_log_stereo_image_fpaths(\n",
    "        log_id=log_id, \n",
    "        camera_name=STEREO_FRONT_LEFT_RECT)\n",
    "    right_stereo_img_fpaths = stereo_data_loader.get_ordered_log_stereo_image_fpaths(\n",
    "        log_id=log_id, \n",
    "        camera_name=STEREO_FRONT_RIGHT_RECT)\n",
    "    disparity_map_fpaths = stereo_data_loader.get_ordered_log_disparity_map_fpaths(\n",
    "        log_id=log_id,\n",
    "        disparity_name=\"stereo_front_left_rect_disparity\")\n",
    "    disparity_obj_map_fpaths = stereo_data_loader.get_ordered_log_disparity_map_fpaths(\n",
    "        log_id=log_id,\n",
    "        disparity_name=\"stereo_front_left_rect_objects_disparity\")\n",
    "    lens += [len(left_stereo_img_fpaths)]\n",
    "\n",
    "    # save_dir_disp = f\"{main_dir}707-files/results/sgm/stereo_output/{log_id}/\"\n",
    "    # pred_dir = Path(save_dir_disp)\n",
    "    # gt_dir = Path(f\"{data_dir}/disparity_maps_v1.1/val/{log_id}\")\n",
    "    # save_figures_dir = Path(f\"/tmp/results/sgm/figures/{log_id}/\")\n",
    "    # save_figures_dir.mkdir(parents=True, exist_ok=True)\n",
    "\n",
    "    # evaluator = StereoEvaluator(\n",
    "    #     pred_dir,\n",
    "    #     gt_dir,\n",
    "    #     save_figures_dir,\n",
    "    # )\n",
    "    # metrics += [evaluator.evaluate()]"
   ]
  },
  {
   "cell_type": "code",
   "execution_count": 29,
   "metadata": {},
   "outputs": [
    {
     "data": {
      "text/plain": [
       "[{'all:10': 3.4682411890098845,\n",
       "  'fg:10': 3.2607305562718696,\n",
       "  'bg:10': 3.4987609043347843,\n",
       "  'all*:10': 2.127099557781579,\n",
       "  'fg*:10': 1.4296237075896268,\n",
       "  'bg*:10': 2.2315293677764965,\n",
       "  'all:5': 6.040719663877293,\n",
       "  'fg:5': 4.845705995442148,\n",
       "  'bg:5': 6.21647681178234,\n",
       "  'all*:5': 3.805137290672996,\n",
       "  'fg*:5': 2.1154658067066108,\n",
       "  'bg*:5': 4.058123930964382,\n",
       "  'all:3': 7.088952627235509,\n",
       "  'fg:3': 5.337551548391019,\n",
       "  'bg:3': 7.346540692197659,\n",
       "  'all*:3': 4.414083257319883,\n",
       "  'fg*:3': 2.4891531848764408,\n",
       "  'bg*:3': 4.70229407015799},\n",
       " {'all:10': 5.268346514373905,\n",
       "  'fg:10': 11.613081046814493,\n",
       "  'bg:10': 4.383715782483582,\n",
       "  'all*:10': 2.6297636772578956,\n",
       "  'fg*:10': 6.30691097033541,\n",
       "  'bg*:10': 2.1737669383930975,\n",
       "  'all:5': 10.43713117510306,\n",
       "  'fg:5': 17.92786957540344,\n",
       "  'bg:5': 9.392715942349787,\n",
       "  'all*:5': 6.508537396648399,\n",
       "  'fg*:5': 9.170360533352476,\n",
       "  'bg*:5': 6.178449267718411,\n",
       "  'all:3': 13.084019479317138,\n",
       "  'fg:3': 21.17194713559252,\n",
       "  'bg:3': 11.956339617304902,\n",
       "  'all*:3': 8.865825070485,\n",
       "  'fg*:3': 12.039552787897277,\n",
       "  'bg*:3': 8.472256531115013},\n",
       " {'all:10': 7.208892570531857,\n",
       "  'fg:10': 12.483296516123325,\n",
       "  'bg:10': 5.204708101022366,\n",
       "  'all*:10': 3.790333589114586,\n",
       "  'fg*:10': 6.9978520487136775,\n",
       "  'bg*:10': 2.6402674431532507,\n",
       "  'all:5': 9.607731524061759,\n",
       "  'fg:5': 14.53396651561053,\n",
       "  'bg:5': 7.735845380136711,\n",
       "  'all*:5': 5.441017240716665,\n",
       "  'fg*:5': 8.44254073386871,\n",
       "  'bg*:5': 4.364811258035201,\n",
       "  'all:3': 10.88464454026314,\n",
       "  'fg:3': 15.108495977589934,\n",
       "  'bg:3': 9.27965229099081,\n",
       "  'all*:3': 6.34847743890075,\n",
       "  'fg*:3': 8.975197502300478,\n",
       "  'bg*:3': 5.406658441478355},\n",
       " {'all:10': 6.14635528883392,\n",
       "  'fg:10': 11.131572469347244,\n",
       "  'bg:10': 4.853668248783262,\n",
       "  'all*:10': 3.5344403864938685,\n",
       "  'fg*:10': 6.914045290072355,\n",
       "  'bg*:10': 2.6383996433352688,\n",
       "  'all:5': 9.188235824469594,\n",
       "  'fg:5': 13.485641259316292,\n",
       "  'bg:5': 8.07390116053875,\n",
       "  'all*:5': 5.4792536412674915,\n",
       "  'fg*:5': 8.751156358696232,\n",
       "  'bg*:5': 4.611768172962244,\n",
       "  'all:3': 11.115952229093974,\n",
       "  'fg:3': 14.552320496100645,\n",
       "  'bg:3': 10.224887996032123,\n",
       "  'all*:3': 6.919609026485905,\n",
       "  'fg*:3': 9.833947484986634,\n",
       "  'bg*:3': 6.146925215012663},\n",
       " {'all:10': 6.51784817249054,\n",
       "  'fg:10': 13.848535104470233,\n",
       "  'bg:10': 3.8030128377612744,\n",
       "  'all*:10': 3.373865767436964,\n",
       "  'fg*:10': 8.89611948259768,\n",
       "  'bg*:10': 1.716815993578496,\n",
       "  'all:5': 8.571680222678264,\n",
       "  'fg:5': 15.463428441577598,\n",
       "  'bg:5': 6.019400776518276,\n",
       "  'all*:5': 5.080543169704676,\n",
       "  'fg*:5': 10.24856647553007,\n",
       "  'bg*:5': 3.5297864873916764,\n",
       "  'all:3': 10.414987147893632,\n",
       "  'fg:3': 18.158505324174662,\n",
       "  'bg:3': 7.547264524468372,\n",
       "  'all*:3': 6.5992552176775465,\n",
       "  'fg*:3': 12.135751433524469,\n",
       "  'bg*:3': 4.937931729904689},\n",
       " {'all:10': 32.47852912220277,\n",
       "  'fg:10': 33.088911929076524,\n",
       "  'bg:10': 29.094956452572866,\n",
       "  'all*:10': 17.8681217233813,\n",
       "  'fg*:10': 17.239633972089322,\n",
       "  'bg*:10': 21.538198036805838,\n",
       "  'all:5': 35.229650546229266,\n",
       "  'fg:5': 35.52219821326168,\n",
       "  'bg:5': 33.607953015453916,\n",
       "  'all*:5': 20.208505638525253,\n",
       "  'fg*:5': 19.030851252310267,\n",
       "  'bg*:5': 27.08545981840107,\n",
       "  'all:3': 35.62442557026166,\n",
       "  'fg:3': 35.889913961340646,\n",
       "  'bg:3': 34.15272739324425,\n",
       "  'all*:3': 20.786029777044412,\n",
       "  'fg*:3': 19.567954840650547,\n",
       "  'bg*:3': 27.89902118036991},\n",
       " {'all:10': 21.041258908299817,\n",
       "  'fg:10': 16.239093238563175,\n",
       "  'bg:10': 21.574998271501943,\n",
       "  'all*:10': 6.581402817298384,\n",
       "  'fg*:10': 6.559913999326643,\n",
       "  'bg*:10': 6.585646770986198,\n",
       "  'all:5': 31.471649824749466,\n",
       "  'fg:5': 19.907362905064144,\n",
       "  'bg:5': 32.756968899703004,\n",
       "  'all*:5': 12.573803820410134,\n",
       "  'fg*:5': 9.393525929163639,\n",
       "  'bg*:5': 13.201895700688334,\n",
       "  'all:3': 36.600555840271944,\n",
       "  'fg:3': 22.5529992392388,\n",
       "  'bg:3': 38.16187929940044,\n",
       "  'all*:3': 19.33470947848385,\n",
       "  'fg*:3': 12.821542696144736,\n",
       "  'bg*:3': 20.621033287527307},\n",
       " {'all:10': 2.5857259587903676,\n",
       "  'fg:10': 7.4071724556677525,\n",
       "  'bg:10': 1.7258767162806559,\n",
       "  'all*:10': 2.003310896894627,\n",
       "  'fg*:10': 4.778947006683996,\n",
       "  'bg*:10': 1.49025447530066,\n",
       "  'all:5': 5.85627891235538,\n",
       "  'fg:5': 9.346304683234289,\n",
       "  'bg:5': 5.233873163920106,\n",
       "  'all*:5': 4.0581654812767365,\n",
       "  'fg*:5': 6.690378530699009,\n",
       "  'bg*:5': 3.5716197834287513,\n",
       "  'all:3': 8.15177977181806,\n",
       "  'fg:3': 9.846323940885807,\n",
       "  'bg:3': 7.849577409702081,\n",
       "  'all*:3': 5.160457490435123,\n",
       "  'fg*:3': 7.228682027830757,\n",
       "  'bg*:3': 4.778161022801415},\n",
       " {'all:10': 8.888194586551837,\n",
       "  'fg:10': 15.774614316814963,\n",
       "  'bg:10': 7.307385835582278,\n",
       "  'all*:10': 5.317017517274706,\n",
       "  'fg*:10': 9.169815700891187,\n",
       "  'bg*:10': 4.4851388787686535,\n",
       "  'all:5': 13.817539226079917,\n",
       "  'fg:5': 20.755135028979744,\n",
       "  'bg:5': 12.224982776504532,\n",
       "  'all*:5': 8.633173160052538,\n",
       "  'fg*:5': 12.806789016856468,\n",
       "  'bg*:5': 7.732025030527014,\n",
       "  'all:3': 17.001002490400506,\n",
       "  'fg:3': 22.261443766879673,\n",
       "  'bg:3': 15.793444437080684,\n",
       "  'all*:3': 11.090278872509373,\n",
       "  'fg*:3': 14.381306129116853,\n",
       "  'bg*:3': 10.379695254308242},\n",
       " {'all:10': 7.349702765572499,\n",
       "  'fg:10': 16.500640920744015,\n",
       "  'bg:10': 4.469184415606715,\n",
       "  'all*:10': 4.350471178422119,\n",
       "  'fg*:10': 10.833904283824577,\n",
       "  'bg*:10': 2.437271623389128,\n",
       "  'all:5': 12.257512481125273,\n",
       "  'fg:5': 22.40245277186858,\n",
       "  'bg:5': 9.064103655574577,\n",
       "  'all*:5': 8.238079575426262,\n",
       "  'fg*:5': 16.06444391683343,\n",
       "  'bg*:5': 5.9285937625736,\n",
       "  'all:3': 17.368094570880547,\n",
       "  'fg:3': 23.85600192730777,\n",
       "  'bg:3': 15.32584099248596,\n",
       "  'all*:3': 13.294978342238384,\n",
       "  'fg*:3': 17.70606790353763,\n",
       "  'bg*:3': 11.993307692030525},\n",
       " {'all:10': 5.7221783483768816,\n",
       "  'fg:10': 10.000164815242114,\n",
       "  'bg:10': 4.667103499240286,\n",
       "  'all*:10': 3.3759112767325483,\n",
       "  'fg*:10': 5.828990766127396,\n",
       "  'bg*:10': 2.804751589749127,\n",
       "  'all:5': 8.439701141944534,\n",
       "  'fg:5': 11.79615650855391,\n",
       "  'bg:5': 7.611902441086542,\n",
       "  'all*:5': 5.286481539461959,\n",
       "  'fg*:5': 7.378789723138396,\n",
       "  'bg*:5': 4.799321587072365,\n",
       "  'all:3': 9.724951204385965,\n",
       "  'fg:3': 12.26835217720935,\n",
       "  'bg:3': 9.097675167287637,\n",
       "  'all*:3': 6.319036807223507,\n",
       "  'fg*:3': 7.846183274691769,\n",
       "  'bg*:3': 5.963465574367868},\n",
       " {'all:10': 5.093361534269328,\n",
       "  'fg:10': 8.366689637308232,\n",
       "  'bg:10': 4.64411745569453,\n",
       "  'all*:10': 3.2618914040996163,\n",
       "  'fg*:10': 4.899044136821061,\n",
       "  'bg*:10': 3.044224179324372,\n",
       "  'all:5': 7.811722183818828,\n",
       "  'fg:5': 11.041058799955037,\n",
       "  'bg:5': 7.368515665298089,\n",
       "  'all*:5': 4.973865317128788,\n",
       "  'fg*:5': 6.306341671316535,\n",
       "  'bg*:5': 4.796706262693743,\n",
       "  'all:3': 8.969761455942132,\n",
       "  'fg:3': 11.647092747630847,\n",
       "  'bg:3': 8.602314261126088,\n",
       "  'all*:3': 5.797802942681384,\n",
       "  'fg*:3': 6.782170305713589,\n",
       "  'bg*:3': 5.6669266305401385},\n",
       " {'all:10': 8.427537547263555,\n",
       "  'fg:10': 20.5343687914494,\n",
       "  'bg:10': 6.638471403593325,\n",
       "  'all*:10': 4.827278248431071,\n",
       "  'fg*:10': 14.087232493351905,\n",
       "  'bg*:10': 3.4884858531163654,\n",
       "  'all:5': 16.396144987097593,\n",
       "  'fg:5': 27.892271356323644,\n",
       "  'bg:5': 14.69732470491896,\n",
       "  'all*:5': 12.389512646822862,\n",
       "  'fg*:5': 21.727924106200668,\n",
       "  'bg*:5': 11.03937700733066,\n",
       "  'all:3': 24.348088308316797,\n",
       "  'fg:3': 33.9132160482923,\n",
       "  'bg:3': 22.9346180241176,\n",
       "  'all*:3': 20.930802163718475,\n",
       "  'fg*:3': 28.898632392047613,\n",
       "  'bg*:3': 19.77882341364023},\n",
       " {'all:10': 7.5166696277642915,\n",
       "  'fg:10': 19.110866666760927,\n",
       "  'bg:10': 6.078944701609744,\n",
       "  'all*:10': 4.653732095439303,\n",
       "  'fg*:10': 10.186430977378707,\n",
       "  'bg*:10': 4.074561379385125,\n",
       "  'all:5': 12.823715693448248,\n",
       "  'fg:5': 23.473821282588194,\n",
       "  'bg:5': 11.503061730074734,\n",
       "  'all*:5': 9.262724461056075,\n",
       "  'fg*:5': 13.800958895112636,\n",
       "  'bg*:5': 8.787655684879896,\n",
       "  'all:3': 18.827620598694946,\n",
       "  'fg:3': 25.213602102724124,\n",
       "  'bg:3': 18.035734385667535,\n",
       "  'all*:3': 15.412427935871396,\n",
       "  'fg*:3': 15.196517202878562,\n",
       "  'bg*:3': 15.435029775678624},\n",
       " {'all:10': 5.977958349538137,\n",
       "  'fg:10': 19.63376148523381,\n",
       "  'bg:10': 3.828161726161287,\n",
       "  'all*:10': 3.179091106572513,\n",
       "  'fg*:10': 7.825610825200162,\n",
       "  'bg*:10': 2.5628883690892965,\n",
       "  'all:5': 9.378936452525597,\n",
       "  'fg:5': 21.478488213470133,\n",
       "  'bg:5': 7.474136327510696,\n",
       "  'all*:5': 5.567322641445735,\n",
       "  'fg*:5': 8.728487506807982,\n",
       "  'bg*:5': 5.148101684336076,\n",
       "  'all:3': 14.7356822337004,\n",
       "  'fg:3': 22.061745819987152,\n",
       "  'bg:3': 13.58235960566143,\n",
       "  'all*:3': 10.957587678809595,\n",
       "  'fg*:3': 9.479331405254744,\n",
       "  'bg*:3': 11.153628074121912},\n",
       " {'all:10': 14.038646988905414,\n",
       "  'fg:10': 11.779581514867235,\n",
       "  'bg:10': 14.329286832372873,\n",
       "  'all*:10': 6.651778780851511,\n",
       "  'fg*:10': 6.867010174797808,\n",
       "  'bg*:10': 6.62341452135768,\n",
       "  'all:5': 20.1341327401051,\n",
       "  'fg:5': 16.95750127762489,\n",
       "  'bg:5': 20.542821944388624,\n",
       "  'all*:5': 11.157978037267307,\n",
       "  'fg*:5': 11.356313592486304,\n",
       "  'bg*:5': 11.131840395114192,\n",
       "  'all:3': 24.03922679766698,\n",
       "  'fg:3': 19.295134948379157,\n",
       "  'bg:3': 24.64957746183235,\n",
       "  'all*:3': 15.389215940543641,\n",
       "  'fg*:3': 13.54030785285677,\n",
       "  'bg*:3': 15.632874209060343},\n",
       " {'all:10': 6.035411726582071,\n",
       "  'fg:10': 13.250750490505341,\n",
       "  'bg:10': 4.392355382665023,\n",
       "  'all*:10': 3.2127206912597788,\n",
       "  'fg*:10': 9.23353469394328,\n",
       "  'bg*:10': 1.874182730131112,\n",
       "  'all:5': 9.498561053016003,\n",
       "  'fg:5': 15.940383668771968,\n",
       "  'bg:5': 8.031647598012672,\n",
       "  'all*:5': 5.814573760114463,\n",
       "  'fg*:5': 11.763794141151036,\n",
       "  'bg*:5': 4.4919523810802415,\n",
       "  'all:3': 11.191959899800938,\n",
       "  'fg:3': 17.178606340864818,\n",
       "  'bg:3': 9.828697863795027,\n",
       "  'all*:3': 7.2998406289025874,\n",
       "  'fg*:3': 13.097162365359802,\n",
       "  'bg*:3': 6.010989119178868}]"
      ]
     },
     "execution_count": 29,
     "metadata": {},
     "output_type": "execute_result"
    }
   ],
   "source": [
    "metrics"
   ]
  }
 ],
 "metadata": {
  "interpreter": {
   "hash": "5500f37fb1acad4160dec4b6395ea6a4a80d35cfb873ccef7a851c7f11c10c83"
  },
  "kernelspec": {
   "display_name": "Python 3.9.10 64-bit ('ml')",
   "language": "python",
   "name": "python3"
  },
  "language_info": {
   "codemirror_mode": {
    "name": "ipython",
    "version": 3
   },
   "file_extension": ".py",
   "mimetype": "text/x-python",
   "name": "python",
   "nbconvert_exporter": "python",
   "pygments_lexer": "ipython3",
   "version": "3.9.10"
  },
  "orig_nbformat": 4
 },
 "nbformat": 4,
 "nbformat_minor": 2
}
